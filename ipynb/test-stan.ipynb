{
 "cells": [
  {
   "cell_type": "code",
   "execution_count": 23,
   "metadata": {},
   "outputs": [],
   "source": [
    "from biom import load_table\n",
    "import numpy as np\n",
    "import pandas as pd\n",
    "import seaborn as sns\n",
    "from patsy import dmatrix\n",
    "import os\n",
    "%matplotlib inline"
   ]
  },
  {
   "cell_type": "code",
   "execution_count": 24,
   "metadata": {},
   "outputs": [
    {
     "name": "stdout",
     "output_type": "stream",
     "text": [
      "File_1_TaoDing_microbiome.biom\r\n",
      "File_2_TaoDing_Microbiome_taxonomy.tsv\r\n",
      "File_3_FerretMicrobiomeMetadata.xlxs.xlsx\r\n",
      "~$File_3_FerretMicrobiomeMetadata.xlxs.xlsx\r\n"
     ]
    }
   ],
   "source": [
    "!ls ../data"
   ]
  },
  {
   "cell_type": "code",
   "execution_count": 25,
   "metadata": {},
   "outputs": [],
   "source": [
    "fname = '../data/File_1_TaoDing_microbiome.biom'\n",
    "table = load_table(fname)"
   ]
  },
  {
   "cell_type": "code",
   "execution_count": 26,
   "metadata": {},
   "outputs": [
    {
     "data": {
      "text/plain": [
       "7504 x 1096 <class 'biom.table.Table'> with 65829 nonzero entries (0% dense)"
      ]
     },
     "execution_count": 26,
     "metadata": {},
     "output_type": "execute_result"
    }
   ],
   "source": [
    "table"
   ]
  },
  {
   "cell_type": "code",
   "execution_count": 27,
   "metadata": {},
   "outputs": [
    {
     "data": {
      "text/plain": [
       "427 x 1096 <class 'biom.table.Table'> with 50968 nonzero entries (10% dense)"
      ]
     },
     "execution_count": 27,
     "metadata": {},
     "output_type": "execute_result"
    }
   ],
   "source": [
    "obs_filter = lambda v, i, m: (v>0).sum()>20\n",
    "table.filter(obs_filter, axis='observation')"
   ]
  },
  {
   "cell_type": "code",
   "execution_count": 28,
   "metadata": {},
   "outputs": [],
   "source": [
    "fname = 'File_3_FerretMicrobiomeMetadata.xlxs.xlsx'\n",
    "fname = os.path.join('../data/', fname)\n",
    "metadata = pd.read_excel(fname)"
   ]
  },
  {
   "cell_type": "markdown",
   "metadata": {},
   "source": [
    "# Handle batch metadata"
   ]
  },
  {
   "cell_type": "code",
   "execution_count": 29,
   "metadata": {},
   "outputs": [
    {
     "data": {
      "text/plain": [
       "811"
      ]
     },
     "execution_count": 29,
     "metadata": {},
     "output_type": "execute_result"
    }
   ],
   "source": [
    "len(list(metadata.groupby('sampleID')))"
   ]
  },
  {
   "cell_type": "code",
   "execution_count": 30,
   "metadata": {},
   "outputs": [],
   "source": [
    "id_counts = metadata.sampleID.value_counts()\n",
    "batches = id_counts.loc[id_counts>1].index"
   ]
  },
  {
   "cell_type": "code",
   "execution_count": 31,
   "metadata": {},
   "outputs": [],
   "source": [
    "batch_metadata = metadata.set_index('sampleID').loc[batches]"
   ]
  },
  {
   "cell_type": "code",
   "execution_count": 32,
   "metadata": {},
   "outputs": [],
   "source": [
    "batch_metadata = batch_metadata.reset_index()"
   ]
  },
  {
   "cell_type": "code",
   "execution_count": 33,
   "metadata": {},
   "outputs": [
    {
     "data": {
      "text/plain": [
       "216"
      ]
     },
     "execution_count": 33,
     "metadata": {},
     "output_type": "execute_result"
    }
   ],
   "source": [
    "len(batch_metadata.sampleID.value_counts())"
   ]
  },
  {
   "cell_type": "code",
   "execution_count": 34,
   "metadata": {},
   "outputs": [],
   "source": [
    "batch_design = dmatrix(\"sampleID + C(runID, Treatment('batch'))\", \n",
    "                        batch_metadata, return_type='dataframe')"
   ]
  },
  {
   "cell_type": "code",
   "execution_count": 72,
   "metadata": {},
   "outputs": [],
   "source": [
    "sample_ids = metadata.sampleID.unique()\n",
    "id_lookup = pd.Series(np.arange(len(sample_ids)), index=sample_ids)\n",
    "per_sample_ids = batch_metadata.sampleID.apply(lambda x: id_lookup[x]).values + 1\n",
    "\n",
    "run_ids = batch_metadata.runID.unique()\n",
    "id_lookup = pd.Series(np.arange(len(run_ids)), index=run_ids)\n",
    "per_sample_batch_ids = batch_metadata.runID.apply(lambda x: id_lookup[x]).values + 1"
   ]
  },
  {
   "cell_type": "code",
   "execution_count": 63,
   "metadata": {},
   "outputs": [],
   "source": [
    "# metadata.loc[metadata.Control, 'Days'] = 0\n",
    "# TODO: may need to tinker with Days and Pre_Post\n",
    "metadata['Days'] = metadata['Days'].astype(np.float64)\n",
    "metadata['Pre_Post'] = metadata['Days'] > 0"
   ]
  },
  {
   "cell_type": "code",
   "execution_count": 64,
   "metadata": {},
   "outputs": [],
   "source": [
    "main_design = dmatrix(\"Days + SampleType\",metadata, return_type='dataframe')"
   ]
  },
  {
   "cell_type": "markdown",
   "metadata": {},
   "source": [
    "# Subject specific intercepts"
   ]
  },
  {
   "cell_type": "code",
   "execution_count": 53,
   "metadata": {},
   "outputs": [],
   "source": [
    "animal_ids = metadata.AnimalID.unique()"
   ]
  },
  {
   "cell_type": "code",
   "execution_count": 60,
   "metadata": {},
   "outputs": [],
   "source": [
    "id_lookup = pd.Series(np.arange(len(animal_ids)), index=animal_ids)\n",
    "per_sample_subject_ids = metadata.AnimalID.apply(lambda x: id_lookup[x]).values"
   ]
  },
  {
   "cell_type": "markdown",
   "metadata": {},
   "source": [
    "# Actual modeling"
   ]
  },
  {
   "cell_type": "markdown",
   "metadata": {},
   "source": [
    "We will adopt a Negative Binomial linear mixed effects models for this context.\n",
    "\n",
    "Our model is given as follows\n",
    "\n",
    "$\\lambda_{ijkl} = x_i \\cdot \\beta_j + \\gamma_k + \\alpha_l$\n",
    "\n",
    "$y_{ijkl} \\sim NB(\\lambda_{ijkl})$\n",
    "\n",
    "Where x_i includes covariates `Days` and `SampleType`, $\\gamma_k$ corresponds to the batch specific bias and $\\alpha_l$ corresponds to the random intercept for each ferret.\n",
    "\n",
    "See this document for more details on linear mixed models\n",
    "http://jakewestfall.org/misc/SorensenEtAl.pdf"
   ]
  },
  {
   "cell_type": "code",
   "execution_count": 65,
   "metadata": {},
   "outputs": [
    {
     "data": {
      "text/html": [
       "<div>\n",
       "<style scoped>\n",
       "    .dataframe tbody tr th:only-of-type {\n",
       "        vertical-align: middle;\n",
       "    }\n",
       "\n",
       "    .dataframe tbody tr th {\n",
       "        vertical-align: top;\n",
       "    }\n",
       "\n",
       "    .dataframe thead th {\n",
       "        text-align: right;\n",
       "    }\n",
       "</style>\n",
       "<table border=\"1\" class=\"dataframe\">\n",
       "  <thead>\n",
       "    <tr style=\"text-align: right;\">\n",
       "      <th></th>\n",
       "      <th>sampleID</th>\n",
       "      <th>SeqID</th>\n",
       "      <th>runID</th>\n",
       "      <th>rundate</th>\n",
       "      <th>Experiment</th>\n",
       "      <th>Exp_short</th>\n",
       "      <th>SampleType</th>\n",
       "      <th>AnimalID</th>\n",
       "      <th>Days</th>\n",
       "      <th>Control</th>\n",
       "      <th>Pre_Post</th>\n",
       "    </tr>\n",
       "  </thead>\n",
       "  <tbody>\n",
       "    <tr>\n",
       "      <th>0</th>\n",
       "      <td>14NW012029</td>\n",
       "      <td>14NW012029.20180509</td>\n",
       "      <td>20180509</td>\n",
       "      <td>20180509</td>\n",
       "      <td>CB1014</td>\n",
       "      <td>14</td>\n",
       "      <td>NW</td>\n",
       "      <td>2029</td>\n",
       "      <td>1.0</td>\n",
       "      <td>False</td>\n",
       "      <td>True</td>\n",
       "    </tr>\n",
       "    <tr>\n",
       "      <th>1</th>\n",
       "      <td>14NW012029</td>\n",
       "      <td>14NW012029.20180323</td>\n",
       "      <td>20180323</td>\n",
       "      <td>20180323</td>\n",
       "      <td>CB1014</td>\n",
       "      <td>14</td>\n",
       "      <td>NW</td>\n",
       "      <td>2029</td>\n",
       "      <td>1.0</td>\n",
       "      <td>False</td>\n",
       "      <td>True</td>\n",
       "    </tr>\n",
       "    <tr>\n",
       "      <th>2</th>\n",
       "      <td>14NW012030</td>\n",
       "      <td>14NW012030.20180323</td>\n",
       "      <td>20180323</td>\n",
       "      <td>20180323</td>\n",
       "      <td>CB1014</td>\n",
       "      <td>14</td>\n",
       "      <td>NW</td>\n",
       "      <td>2030</td>\n",
       "      <td>1.0</td>\n",
       "      <td>False</td>\n",
       "      <td>True</td>\n",
       "    </tr>\n",
       "    <tr>\n",
       "      <th>3</th>\n",
       "      <td>14NW012030</td>\n",
       "      <td>14NW012030.20180509</td>\n",
       "      <td>20180509</td>\n",
       "      <td>20180509</td>\n",
       "      <td>CB1014</td>\n",
       "      <td>14</td>\n",
       "      <td>NW</td>\n",
       "      <td>2030</td>\n",
       "      <td>1.0</td>\n",
       "      <td>False</td>\n",
       "      <td>True</td>\n",
       "    </tr>\n",
       "    <tr>\n",
       "      <th>4</th>\n",
       "      <td>14NW012031</td>\n",
       "      <td>14NW012031.20180509</td>\n",
       "      <td>20180509</td>\n",
       "      <td>20180509</td>\n",
       "      <td>CB1014</td>\n",
       "      <td>14</td>\n",
       "      <td>NW</td>\n",
       "      <td>2031</td>\n",
       "      <td>1.0</td>\n",
       "      <td>False</td>\n",
       "      <td>True</td>\n",
       "    </tr>\n",
       "    <tr>\n",
       "      <th>...</th>\n",
       "      <td>...</td>\n",
       "      <td>...</td>\n",
       "      <td>...</td>\n",
       "      <td>...</td>\n",
       "      <td>...</td>\n",
       "      <td>...</td>\n",
       "      <td>...</td>\n",
       "      <td>...</td>\n",
       "      <td>...</td>\n",
       "      <td>...</td>\n",
       "      <td>...</td>\n",
       "    </tr>\n",
       "    <tr>\n",
       "      <th>1054</th>\n",
       "      <td>7NW21852</td>\n",
       "      <td>7NW21852A.batch</td>\n",
       "      <td>batch</td>\n",
       "      <td>20180712</td>\n",
       "      <td>CB1007</td>\n",
       "      <td>7</td>\n",
       "      <td>NW</td>\n",
       "      <td>2185</td>\n",
       "      <td>2.0</td>\n",
       "      <td>False</td>\n",
       "      <td>True</td>\n",
       "    </tr>\n",
       "    <tr>\n",
       "      <th>1055</th>\n",
       "      <td>7NW21852</td>\n",
       "      <td>7NW21852B.batch</td>\n",
       "      <td>batch</td>\n",
       "      <td>20180712</td>\n",
       "      <td>CB1007</td>\n",
       "      <td>7</td>\n",
       "      <td>NW</td>\n",
       "      <td>2185</td>\n",
       "      <td>2.0</td>\n",
       "      <td>False</td>\n",
       "      <td>True</td>\n",
       "    </tr>\n",
       "    <tr>\n",
       "      <th>1056</th>\n",
       "      <td>7NW21862</td>\n",
       "      <td>7NW21862.batch</td>\n",
       "      <td>batch</td>\n",
       "      <td>20180712</td>\n",
       "      <td>CB1007</td>\n",
       "      <td>7</td>\n",
       "      <td>NW</td>\n",
       "      <td>2186</td>\n",
       "      <td>2.0</td>\n",
       "      <td>False</td>\n",
       "      <td>True</td>\n",
       "    </tr>\n",
       "    <tr>\n",
       "      <th>1057</th>\n",
       "      <td>8NW24243</td>\n",
       "      <td>8NW24243.batch</td>\n",
       "      <td>batch</td>\n",
       "      <td>20180712</td>\n",
       "      <td>CB1008</td>\n",
       "      <td>8</td>\n",
       "      <td>NW</td>\n",
       "      <td>2424</td>\n",
       "      <td>3.0</td>\n",
       "      <td>False</td>\n",
       "      <td>True</td>\n",
       "    </tr>\n",
       "    <tr>\n",
       "      <th>1058</th>\n",
       "      <td>8NW24284</td>\n",
       "      <td>8NW24284.batch</td>\n",
       "      <td>batch</td>\n",
       "      <td>20180712</td>\n",
       "      <td>CB1008</td>\n",
       "      <td>8</td>\n",
       "      <td>NW</td>\n",
       "      <td>2428</td>\n",
       "      <td>4.0</td>\n",
       "      <td>False</td>\n",
       "      <td>True</td>\n",
       "    </tr>\n",
       "  </tbody>\n",
       "</table>\n",
       "<p>1058 rows × 11 columns</p>\n",
       "</div>"
      ],
      "text/plain": [
       "        sampleID                SeqID     runID   rundate Experiment  \\\n",
       "0     14NW012029  14NW012029.20180509  20180509  20180509     CB1014   \n",
       "1     14NW012029  14NW012029.20180323  20180323  20180323     CB1014   \n",
       "2     14NW012030  14NW012030.20180323  20180323  20180323     CB1014   \n",
       "3     14NW012030  14NW012030.20180509  20180509  20180509     CB1014   \n",
       "4     14NW012031  14NW012031.20180509  20180509  20180509     CB1014   \n",
       "...          ...                  ...       ...       ...        ...   \n",
       "1054    7NW21852      7NW21852A.batch     batch  20180712     CB1007   \n",
       "1055    7NW21852      7NW21852B.batch     batch  20180712     CB1007   \n",
       "1056    7NW21862       7NW21862.batch     batch  20180712     CB1007   \n",
       "1057    8NW24243       8NW24243.batch     batch  20180712     CB1008   \n",
       "1058    8NW24284       8NW24284.batch     batch  20180712     CB1008   \n",
       "\n",
       "      Exp_short SampleType AnimalID  Days  Control  Pre_Post  \n",
       "0            14         NW     2029   1.0    False      True  \n",
       "1            14         NW     2029   1.0    False      True  \n",
       "2            14         NW     2030   1.0    False      True  \n",
       "3            14         NW     2030   1.0    False      True  \n",
       "4            14         NW     2031   1.0    False      True  \n",
       "...         ...        ...      ...   ...      ...       ...  \n",
       "1054          7         NW     2185   2.0    False      True  \n",
       "1055          7         NW     2185   2.0    False      True  \n",
       "1056          7         NW     2186   2.0    False      True  \n",
       "1057          8         NW     2424   3.0    False      True  \n",
       "1058          8         NW     2428   4.0    False      True  \n",
       "\n",
       "[1058 rows x 11 columns]"
      ]
     },
     "execution_count": 65,
     "metadata": {},
     "output_type": "execute_result"
    }
   ],
   "source": [
    "metadata"
   ]
  },
  {
   "cell_type": "code",
   "execution_count": null,
   "metadata": {},
   "outputs": [],
   "source": [
    "per_sample_batch_ids"
   ]
  }
 ],
 "metadata": {
  "kernelspec": {
   "display_name": "Python 3",
   "language": "python",
   "name": "python3"
  },
  "language_info": {
   "codemirror_mode": {
    "name": "ipython",
    "version": 3
   },
   "file_extension": ".py",
   "mimetype": "text/x-python",
   "name": "python",
   "nbconvert_exporter": "python",
   "pygments_lexer": "ipython3",
   "version": "3.6.7"
  }
 },
 "nbformat": 4,
 "nbformat_minor": 4
}
