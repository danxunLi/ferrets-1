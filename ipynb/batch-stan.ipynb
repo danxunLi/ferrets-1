{
 "cells": [
  {
   "cell_type": "code",
   "execution_count": 1,
   "metadata": {},
   "outputs": [],
   "source": [
    "from biom import load_table\n",
    "import numpy as np\n",
    "import pandas as pd\n",
    "import seaborn as sns\n",
    "from patsy import dmatrix\n",
    "import os\n",
    "%matplotlib inline"
   ]
  },
  {
   "cell_type": "code",
   "execution_count": 2,
   "metadata": {},
   "outputs": [
    {
     "name": "stdout",
     "output_type": "stream",
     "text": [
      "File_1_TaoDing_microbiome.biom\r\n",
      "File_2_TaoDing_Microbiome_taxonomy.tsv\r\n",
      "File_3_FerretMicrobiomeMetadata.xlxs.xlsx\r\n",
      "~$File_3_FerretMicrobiomeMetadata.xlxs.xlsx\r\n"
     ]
    }
   ],
   "source": [
    "!ls ../data"
   ]
  },
  {
   "cell_type": "code",
   "execution_count": 3,
   "metadata": {},
   "outputs": [],
   "source": [
    "fname = '../data/File_1_TaoDing_microbiome.biom'\n",
    "table = load_table(fname)"
   ]
  },
  {
   "cell_type": "code",
   "execution_count": 4,
   "metadata": {},
   "outputs": [],
   "source": [
    "fname = 'File_3_FerretMicrobiomeMetadata.xlxs.xlsx'\n",
    "fname = os.path.join('../data/', fname)\n",
    "metadata = pd.read_excel(fname)"
   ]
  },
  {
   "cell_type": "markdown",
   "metadata": {},
   "source": [
    "# Handle batch metadata"
   ]
  },
  {
   "cell_type": "code",
   "execution_count": 5,
   "metadata": {},
   "outputs": [
    {
     "data": {
      "text/plain": [
       "811"
      ]
     },
     "execution_count": 5,
     "metadata": {},
     "output_type": "execute_result"
    }
   ],
   "source": [
    "len(list(metadata.groupby('sampleID')))"
   ]
  },
  {
   "cell_type": "code",
   "execution_count": 6,
   "metadata": {},
   "outputs": [],
   "source": [
    "id_counts = metadata.sampleID.value_counts()\n",
    "batches = id_counts.loc[id_counts>1].index"
   ]
  },
  {
   "cell_type": "code",
   "execution_count": 7,
   "metadata": {},
   "outputs": [],
   "source": [
    "batch_metadata = metadata.set_index('sampleID').loc[batches]"
   ]
  },
  {
   "cell_type": "code",
   "execution_count": 8,
   "metadata": {},
   "outputs": [],
   "source": [
    "batch_metadata = batch_metadata.reset_index()"
   ]
  },
  {
   "cell_type": "code",
   "execution_count": 9,
   "metadata": {},
   "outputs": [
    {
     "data": {
      "text/plain": [
       "216"
      ]
     },
     "execution_count": 9,
     "metadata": {},
     "output_type": "execute_result"
    }
   ],
   "source": [
    "len(batch_metadata.sampleID.value_counts())"
   ]
  },
  {
   "cell_type": "markdown",
   "metadata": {},
   "source": [
    "Filter and match"
   ]
  },
  {
   "cell_type": "code",
   "execution_count": 10,
   "metadata": {},
   "outputs": [
    {
     "name": "stderr",
     "output_type": "stream",
     "text": [
      "/Users/jmorton/miniconda3/envs/qiime2-2020.2/lib/python3.6/site-packages/biom/table.py:4068: FutureWarning: SparseDataFrame is deprecated and will be removed in a future version.\n",
      "Use a regular DataFrame whose columns are SparseArrays instead.\n",
      "\n",
      "See http://pandas.pydata.org/pandas-docs/stable/user_guide/sparse.html#migrating for more.\n",
      "\n",
      "  return constructor(mat, index=index, columns=columns)\n",
      "/Users/jmorton/miniconda3/envs/qiime2-2020.2/lib/python3.6/site-packages/pandas/core/sparse/frame.py:257: FutureWarning: SparseSeries is deprecated and will be removed in a future version.\n",
      "Use a Series with sparse values instead.\n",
      "\n",
      "    >>> series = pd.Series(pd.SparseArray(...))\n",
      "\n",
      "See http://pandas.pydata.org/pandas-docs/stable/user_guide/sparse.html#migrating for more.\n",
      "\n",
      "  sparse_index=BlockIndex(N, blocs, blens),\n",
      "/Users/jmorton/miniconda3/envs/qiime2-2020.2/lib/python3.6/site-packages/pandas/core/generic.py:4583: FutureWarning: SparseSeries is deprecated and will be removed in a future version.\n",
      "Use a Series with sparse values instead.\n",
      "\n",
      "    >>> series = pd.Series(pd.SparseArray(...))\n",
      "\n",
      "See http://pandas.pydata.org/pandas-docs/stable/user_guide/sparse.html#migrating for more.\n",
      "\n",
      "  return self._constructor(new_data).__finalize__(self)\n",
      "/Users/jmorton/miniconda3/envs/qiime2-2020.2/lib/python3.6/site-packages/pandas/core/sparse/frame.py:854: FutureWarning: SparseDataFrame is deprecated and will be removed in a future version.\n",
      "Use a regular DataFrame whose columns are SparseArrays instead.\n",
      "\n",
      "See http://pandas.pydata.org/pandas-docs/stable/user_guide/sparse.html#migrating for more.\n",
      "\n",
      "  default_kind=self._default_kind,\n",
      "/Users/jmorton/miniconda3/envs/qiime2-2020.2/lib/python3.6/site-packages/pandas/core/frame.py:3471: FutureWarning: SparseSeries is deprecated and will be removed in a future version.\n",
      "Use a Series with sparse values instead.\n",
      "\n",
      "    >>> series = pd.Series(pd.SparseArray(...))\n",
      "\n",
      "See http://pandas.pydata.org/pandas-docs/stable/user_guide/sparse.html#migrating for more.\n",
      "\n",
      "  return klass(values, index=self.index, name=items, fastpath=True)\n",
      "/Users/jmorton/miniconda3/envs/qiime2-2020.2/lib/python3.6/site-packages/ipykernel_launcher.py:10: FutureWarning: \n",
      "Passing list-likes to .loc or [] with any missing label will raise\n",
      "KeyError in the future, you can use .reindex() as an alternative.\n",
      "\n",
      "See the documentation here:\n",
      "https://pandas.pydata.org/pandas-docs/stable/user_guide/indexing.html#deprecate-loc-reindex-listlike\n",
      "  # Remove the CWD from sys.path while we load stuff.\n"
     ]
    }
   ],
   "source": [
    "batch_filter = lambda v, i, m: i in set(batch_metadata.SeqID)\n",
    "read_filter = lambda v, i, m: v.sum()>100\n",
    "obs_filter = lambda v, i, m: (v>0).sum()>5\n",
    "\n",
    "table.filter(batch_filter, axis='sample')\n",
    "table.filter(read_filter, axis='sample')\n",
    "table.filter(obs_filter, axis='observation')\n",
    "\n",
    "tab = table.to_dataframe().T.to_dense()\n",
    "tab = tab.loc[batch_metadata.SeqID].dropna()\n",
    "batch_metadata = batch_metadata.set_index('SeqID')\n",
    "batch_metadata = batch_metadata.loc[tab.index]\n",
    "batch_metadata = batch_metadata.reset_index()"
   ]
  },
  {
   "cell_type": "markdown",
   "metadata": {},
   "source": [
    "Prepare for stan"
   ]
  },
  {
   "cell_type": "code",
   "execution_count": 11,
   "metadata": {},
   "outputs": [],
   "source": [
    "sample_ids = batch_metadata.sampleID.unique()\n",
    "id_lookup = pd.Series(np.arange(len(sample_ids)), index=sample_ids)\n",
    "per_sample_ids = batch_metadata.sampleID.apply(lambda x: id_lookup[x]).values + 1\n",
    "\n",
    "run_ids = batch_metadata.runID.unique()\n",
    "id_lookup = pd.Series(np.arange(len(run_ids)), index=run_ids)\n",
    "per_sample_batch_ids = batch_metadata.runID.apply(lambda x: id_lookup[x]).values + 1"
   ]
  },
  {
   "cell_type": "code",
   "execution_count": 12,
   "metadata": {},
   "outputs": [
    {
     "data": {
      "text/plain": [
       "<matplotlib.axes._subplots.AxesSubplot at 0x121d27358>"
      ]
     },
     "execution_count": 12,
     "metadata": {},
     "output_type": "execute_result"
    },
    {
     "data": {
      "image/png": "[encoded data removed]",
      "text/plain": [
       "<Figure size 432x288 with 1 Axes>"
      ]
     },
     "metadata": {
      "needs_background": "light"
     },
     "output_type": "display_data"
    }
   ],
   "source": [
    "sns.distplot(np.log(tab.sum(axis=1)).values)"
   ]
  },
  {
   "cell_type": "code",
   "execution_count": 13,
   "metadata": {},
   "outputs": [
    {
     "data": {
      "text/plain": [
       "<matplotlib.axes._subplots.AxesSubplot at 0x122019630>"
      ]
     },
     "execution_count": 13,
     "metadata": {},
     "output_type": "execute_result"
    },
    {
     "data": {
      "image/png": "[encoded data removed]",
      "text/plain": [
       "<Figure size 432x288 with 1 Axes>"
      ]
     },
     "metadata": {
      "needs_background": "light"
     },
     "output_type": "display_data"
    }
   ],
   "source": [
    "t = tab.values.ravel()\n",
    "sns.distplot(np.log(t[t>0]))"
   ]
  },
  {
   "cell_type": "code",
   "execution_count": 14,
   "metadata": {},
   "outputs": [
    {
     "data": {
      "text/plain": [
       "array([  1,   1,   1,   1,   2,   2,   2,   3,   3,   3,   4,   4,   5,\n",
       "         5,   5,   6,   6,   7,   7,   7,   8,   8,   8,   9,   9,  10,\n",
       "        10,  10,  11,  11,  11,  12,  12,  13,  13,  14,  15,  16,  16,\n",
       "        16,  17,  17,  18,  19,  19,  20,  20,  20,  21,  21,  22,  22,\n",
       "        22,  23,  23,  23,  24,  24,  24,  25,  25,  26,  26,  26,  27,\n",
       "        27,  27,  28,  28,  29,  29,  30,  30,  31,  31,  32,  32,  33,\n",
       "        34,  34,  35,  36,  37,  38,  38,  39,  39,  40,  40,  41,  41,\n",
       "        42,  42,  43,  43,  44,  44,  45,  45,  46,  46,  47,  47,  48,\n",
       "        48,  49,  49,  50,  51,  51,  52,  53,  53,  54,  54,  55,  55,\n",
       "        56,  57,  58,  58,  59,  59,  60,  60,  61,  61,  62,  62,  63,\n",
       "        63,  64,  64,  65,  65,  66,  66,  67,  67,  68,  68,  69,  69,\n",
       "        70,  70,  71,  72,  73,  73,  74,  74,  75,  76,  77,  77,  78,\n",
       "        78,  79,  79,  80,  80,  81,  81,  82,  82,  83,  84,  84,  85,\n",
       "        85,  86,  86,  87,  87,  88,  88,  89,  90,  90,  91,  92,  92,\n",
       "        93,  94,  94,  95,  95,  96,  96,  97,  97,  98,  98,  99,  99,\n",
       "       100, 100, 101, 101, 102, 102, 103, 103, 104, 104, 105, 106, 106,\n",
       "       107, 107, 108, 108, 109, 109, 110, 110, 111, 111, 112, 112, 113,\n",
       "       114, 114, 115, 115, 116, 116, 117, 117, 118, 119, 119, 120, 120,\n",
       "       121, 122, 122, 123, 123, 124, 124, 125, 126, 126, 127, 127, 128,\n",
       "       128, 129, 129, 130, 130, 131, 131, 132, 133, 134, 134, 135, 135,\n",
       "       136, 137, 137, 138, 139, 139, 140, 140, 141, 141, 142, 142, 143,\n",
       "       143, 144, 144, 145, 145, 146, 146, 147, 147, 148, 148, 149, 149,\n",
       "       150, 150, 151, 151, 152, 152, 153, 153, 154, 154, 155, 155, 156,\n",
       "       156, 157, 157, 158, 159, 159, 160, 160, 161, 161, 162, 162, 163,\n",
       "       163, 164, 164, 165, 165, 166, 166, 167, 167, 168, 168, 169, 169,\n",
       "       170, 170, 171, 172, 173, 173, 174, 175, 175, 176, 176, 177, 177,\n",
       "       178, 178, 179, 180, 181, 181, 182, 182, 183, 183, 184, 185, 185,\n",
       "       186, 186, 187, 187, 188, 188, 189, 190, 190, 191, 192, 192, 193,\n",
       "       193, 194, 194, 195, 195, 196, 196, 197, 197, 198, 198, 199, 200,\n",
       "       200, 201, 201, 202, 202, 203, 203, 204, 204, 205, 206, 207, 207,\n",
       "       208, 208, 209, 209, 210, 210])"
      ]
     },
     "execution_count": 14,
     "metadata": {},
     "output_type": "execute_result"
    }
   ],
   "source": [
    "per_sample_ids"
   ]
  },
  {
   "cell_type": "markdown",
   "metadata": {},
   "source": [
    "# Actual modeling"
   ]
  },
  {
   "cell_type": "markdown",
   "metadata": {},
   "source": [
    "We will adopt a Negative Binomial linear mixed effects models for this context.\n",
    "\n",
    "Our model is given as follows\n",
    "\n",
    "$\\lambda_{ik} = \\gamma_k + s_i$\n",
    "\n",
    "$y_{ik} \\sim NB(\\lambda_{ik})$\n",
    "\n",
    "Where s_i encodes sample distribution i and $\\gamma_k$ corresponds to the batch specific bias and $\\alpha_l$ corresponds to the random intercept for each ferret.\n",
    "\n",
    "See this document for more details on linear mixed models\n",
    "http://jakewestfall.org/misc/SorensenEtAl.pdf"
   ]
  },
  {
   "cell_type": "code",
   "execution_count": 19,
   "metadata": {},
   "outputs": [
    {
     "name": "stderr",
     "output_type": "stream",
     "text": [
      "INFO:pystan:COMPILING THE C++ CODE FOR MODEL anon_model_c0f365d1d9917f782a76dec78a50e331 NOW.\n"
     ]
    }
   ],
   "source": [
    "import pystan\n",
    "\n",
    "code = open('../models/nb_batch.stan', 'r').read()\n",
    "sm = pystan.StanModel(model_code=code)"
   ]
  },
  {
   "cell_type": "markdown",
   "metadata": {},
   "source": [
    "# Run Hamiltonian Monte Carlo"
   ]
  },
  {
   "cell_type": "code",
   "execution_count": null,
   "metadata": {},
   "outputs": [],
   "source": [
    "dat = {\n",
    "    'M' : batch_metadata.shape[0],\n",
    "    'R' : len(set(per_sample_batch_ids)),\n",
    "    'D' : table.shape[0],\n",
    "    'S' : len(set(per_sample_ids)),    \n",
    "    'depth' : np.log(tab.sum(axis=1)).values,\n",
    "    'samp_ids' : per_sample_ids,\n",
    "    'batch_ids' : per_sample_batch_ids,\n",
    "    'y' : tab.values.astype(np.int)\n",
    "}\n",
    "\n",
    "fit = sm.sampling(data=dat, iter=1000, chains=4)\n",
    "res =  fit.extract(permuted=True)"
   ]
  },
  {
   "cell_type": "code",
   "execution_count": null,
   "metadata": {},
   "outputs": [],
   "source": [
    "import pickle\n",
    "\n",
    "pickle.dump({'dat': dat, 'fit': fit, 'res': res}, open('fit.pickle', 'wb'))"
   ]
  },
  {
   "cell_type": "code",
   "execution_count": null,
   "metadata": {},
   "outputs": [],
   "source": []
  }
 ],
 "metadata": {
  "kernelspec": {
   "display_name": "Python 3",
   "language": "python",
   "name": "python3"
  },
  "language_info": {
   "codemirror_mode": {
    "name": "ipython",
    "version": 3
   },
   "file_extension": ".py",
   "mimetype": "text/x-python",
   "name": "python",
   "nbconvert_exporter": "python",
   "pygments_lexer": "ipython3",
   "version": "3.6.7"
  }
 },
 "nbformat": 4,
 "nbformat_minor": 4
}
